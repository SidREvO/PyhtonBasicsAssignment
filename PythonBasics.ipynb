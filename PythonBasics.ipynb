{
  "nbformat": 4,
  "nbformat_minor": 0,
  "metadata": {
    "colab": {
      "provenance": []
    },
    "kernelspec": {
      "name": "python3",
      "display_name": "Python 3"
    },
    "language_info": {
      "name": "python"
    }
  },
  "cells": [
    {
      "cell_type": "markdown",
      "source": [
        "#BASICS OF PYTHON\n"
      ],
      "metadata": {
        "id": "prsQVRWl9LC7"
      }
    },
    {
      "cell_type": "markdown",
      "source": [
        "1. What is Python, and why is it popular?\n",
        "  -  Python is a high-level, general-purpose programming language known\n",
        "     for its simple and readable syntax. It supports multiple programming paradigms like object-oriented, procedural, and functional programming. Python is popular because it is easy to learn, has a large standard library, and is widely used in fields like web development, data science, artificial intelligence, automation, and more. Its vast community support also makes solving problems easier for beginners and professionals alike.\n",
        "\n",
        "2. What is an interpreter in Python?\n",
        "   - An interpreter in Python is a program that reads Python code     \n",
        "     line-by-line and executes it directly without first compiling it into machine code. This allows Python to be platform-independent and makes it easier to test and debug code quickly.How it works:\n",
        "     i. Reading the Code:\n",
        "     the interpreter starts by reading the Python code, typically from a .py file.\n",
        "     ii) Translation:\n",
        "     It then translates the Python code into an intermediate representation called bytecode.\n",
        "     iii) Execution:\n",
        "     The interpreter executes the bytecode, effectively running the Python program.\n",
        "     iv) Output:\n",
        "     The interpreter displays the results of the program's execution.\n",
        "\n",
        "3. What are pre-defined keywords in Python?\n",
        "   - Pre-defined keywords in Python are reserved words that have special\n",
        "     meaning and functionality within the language. Examples include if, for, while, return, and class. They define the syntax and structure of Python programs and cannot be used for any other purpose, such as naming variables or functions. Rules for Keywords in Python are that\n",
        "     Python keywords cannot be used as identifiers.And all the keywords in Python should be in lowercase except True and False.\n",
        "\n",
        "4. Can keywords be used as variable names?\n",
        "   - No, keywords cannot be used as variable names in Python. Keywords\n",
        "     have predefined meanings and are essential for the correct syntax and functioning of the language. If we try to use a keyword as a variable name, Python will throw a syntax error. This restriction prevents confusion and ensures that the Python interpreter can easily understand and execute the code without ambiguity or misinterpretation.\n",
        "\n",
        "5. What is mutability in Python?\n",
        "   - Mutability in Python refers to whether or not an object's state can be changed after it is created. Mutable objects, like lists and dictionaries, can have their contents modified without changing their identity. Immutable objects, like strings, tuples, and integers, cannot be changed after creation. Objects of built-in type that are mutable are:\n",
        "   i)Lists\n",
        "   ii)Sets\n",
        "   iii)Dictionaries\n",
        "   iv)User-Defined Classes (It purely depends upon the user to define the characteristics)\n",
        "\n",
        "6. Why are lists mutable, but tuples are immutable?\n",
        "   - Lists are mutable in Python because they are designed to allow frequent changes like adding, removing, or modifying elements. This flexibility makes lists useful for dynamic data storage. On the other hand, tuples are immutable to ensure data consistency and integrity. Once created, a tuple's elements cannot be altered, which makes tuples faster to access and ideal for storing fixed collections of data or using them as keys in dictionaries. Tuples are similar to lists, but their values can't be modified. Because of this, when we use tuples in our code, we are conveying to others that you don't intend for there to be changes to that sequence of values.\n",
        "\n",
        "7. What is the difference between “==” and “is” operators in Python?\n",
        "   - The key difference between the == and is operators in Python lies in what they compare:\n",
        "     == (equality operator): It checks if the values of two objects are the same.\n",
        "     is (identity operator): It checks if two variables refer to the same object in memory. It compares object identity, not values.\n",
        "\n",
        "8. What are logical operators in Python?\n",
        "  - Logical operators in Python are used to combine conditional statement and return Boolean values (True or False). They help control the flow of logic in programs. There are three main logical operators: and, or, and not.\n",
        "  i)and:\n",
        "     Returns True if both conditions are True. eg:\n",
        "          x = 10\n",
        "          print(x > 5 and x < 15)  # True\n",
        "  ii)or: Returns True if at least one of the operands is True, otherwise\n",
        "     it returns False. eg:\n",
        "            x = 5\n",
        "            y = 10\n",
        "            print(x < 4 or y > 9) # Output: True\n",
        "            print(x < 4 or y < 9) # Output: False\n",
        "   iii)not: Returns the opposite boolean value of the operand. If the\n",
        "       operand is True, it returns False, and if the operand is False, it returns True. eg:\n",
        "            x = 5\n",
        "            print(not(x < 6)) # Output: False\n",
        "            print(not(x > 6)) # Output: True\n",
        "\n",
        "9. What is type casting in Python?\n",
        "   - Type casting in Python means converting a value from one data type to another, such as from a string to an integer, or from an integer to a float. types are:\n",
        "   i)Implicit type casting (automatic conversion):\n",
        "     Python automatically converts certain data types in some situations, such as when performing arithmetic operations between an integer and a float. In such cases, the integer is implicitly converted to a float to maintain data precision. eg:\n",
        "          x = 5\n",
        "          y = 2.0\n",
        "          result = x + y  # x is implicitly converted to float\n",
        "          print(result)   # 7.0\n",
        "   ii)Explicit type casting (manual conversion):\n",
        "      This involves using built-in functions to explicitly convert a variable to a specific data type. Python provides several functions for this purpose, including int(), float(), str(), bool(), list(), tuple(), and set(). eg:\n",
        "            a = \"10\"\n",
        "            b = int(a)   # Convert string to integer\n",
        "            c = float(a) # Convert string to float\n",
        "            d = str(b)   # Convert integer to string\n",
        "\n",
        "10. What is the difference between implicit and explicit type casting?\n",
        "   - Implicit type casting happens automatically by the compiler, while explicit type casting.\n",
        "   Implicit Type Casting (Widening):\n",
        "   Definition: Automatic conversion of a smaller data type to a larger one.\n",
        "   Example: Converting an integer (e.g., int) to a floating-point number (e.g., float).\n",
        "   Purpose: Ensures compatibility when a smaller data type is assigned to a larger one or when different data types are combined in an expression.\n",
        "   Safety: Generally safe as it doesn't lead to loss of data.\n",
        "   Explicit Type Casting (Narrowing):\n",
        "   Definition: Manual conversion of a larger data type to a smaller one.\n",
        "   Example: Converting a floating-point number to an integer.\n",
        "   Purpose: Provides control over the conversion process and can be used to prevent potential data loss or unexpected behavior.\n",
        "   Syntax: Typically requires a cast operator (e.g., (int)value).\n",
        "   Safety: Can lead to data loss or precision issues, especially when converting from a larger floating-point type to an integer.\n",
        "\n",
        "11. What is the purpose of conditional statements in Python?\n",
        "   - The purpose of conditional statements in Python is to control the flow of execution in a program based on whether certain conditions are met. These statements allow the program to make decisions and execute different blocks of code depending on the outcome of these conditions. The primary conditional statements in Python are if, else if, and else.\n",
        "   if statement:\n",
        "   This statement evaluates a condition. If the condition is true, the block of code indented under the if statement is executed. If the condition is false, the block of code is skipped.\n",
        "   elif statement:\n",
        "   This statement allows you to check multiple conditions in sequence. It is used after an if statement and evaluates a new condition only if the previous if or else if conditions were false. If the else if condition is true, its corresponding block of code is executed.\n",
        "   else statement:\n",
        "   This statement provides a default block of code to execute if none of the preceding if or else if conditions are true. It is placed at the end of the conditional structure.\n",
        "  \n",
        "12. How does the elif statement work?\n",
        "   - The elif statement in Python stands for \"else if\". This statement allows you to check multiple conditions in sequence. It is used after an if statement and evaluates a new condition only if the previous if or else if conditions were false. If the else if condition is true, its corresponding block of code is executed. eg:\n",
        "          x = 20\n",
        "          if x < 10:\n",
        "            print(\"Less than 10\")\n",
        "          elif x < 30:\n",
        "            print(\"Less than 30\")\n",
        "          else:\n",
        "            print(\"30 or more\")\n",
        "\n",
        "13. What is the difference between for and while loops?\n",
        "   - In Python, a 'for loop' is used to iterate over a sequence of items, such as a Python tuple, list, string, or range. The loop will execute a block of statements for each item in the sequence. For loop require a sequence to iterate over.\n",
        "          for i in range(5):\n",
        "              print(i) # Output: 0, 1, 2, 3, 4\n",
        "\n",
        "     In Python, a 'while loop' is used to repeatedly execute a block of statements while a condition is true. The loop will continue to run as long as the condition remains true. While the loop requires an initial condition that is tested at the beginning of the loop.\n",
        "          count = 0\n",
        "            while count < 5:\n",
        "            print(count) # Output: 0, 1, 2, 3,4          \n",
        "            count += 1\n",
        "\n",
        "14. Describe a scenario where a while loop is more suitable than a for loop.\n",
        "   - For loops are best used when you know the number of iterations ahead of time, whereas a while loop is best used when you don't know the number of iterations in advance.\n",
        "   eg:\n",
        "   When the number of iterations is not known beforehand and depends on a condition. For example, reading input until a specific value is entered:\n",
        "   Using a while loop:\n",
        "            command = \"\"\n",
        "            while command != \"stop\":\n",
        "            command = input(\"Type something (or 'stop' to quit): \")\n",
        "   \n",
        "   Using for loop:\n",
        "        for _ in range(100):  # arbitrary limit\n",
        "                  command = input(\"Type something (or 'stop' to quit): \")\n",
        "                  if command == \"stop\":\n",
        "                      break\n",
        "   Why this is not ideal:\n",
        "   You must guess how many times to loop (here we chose 100).\n",
        "   If the user types \"stop\" early, we need to add a break to escape manually.\n",
        "   If they never say \"stop\", it still ends after 100 loops — not truly condition-driven.\n",
        "\n",
        "\n",
        "  \n",
        "\n",
        "\n",
        "\n",
        "\n",
        "\n",
        "\n",
        "\n",
        "\n",
        "\n"
      ],
      "metadata": {
        "id": "PHoKa3ZD9cwV"
      }
    },
    {
      "cell_type": "code",
      "source": [
        "# 1. Write a Python program to print \"Hello, World!\"\n",
        "\n",
        "print(\"Hello, World!\")\n",
        "\n",
        "\n"
      ],
      "metadata": {
        "id": "rvbvKKumH29L",
        "colab": {
          "base_uri": "https://localhost:8080/"
        },
        "outputId": "85f07bc6-9446-4b6b-ade7-6ce917b28997"
      },
      "execution_count": 1,
      "outputs": [
        {
          "output_type": "stream",
          "name": "stdout",
          "text": [
            "Hello, World!\n"
          ]
        }
      ]
    },
    {
      "cell_type": "code",
      "source": [
        "# 2.Write a Python program that displays your name and age.\n",
        "\n",
        "name = \"Siddharth Mohan\"\n",
        "age = 24\n",
        "print(\"Name:\", name)\n",
        "print(\"Age:\", age)\n"
      ],
      "metadata": {
        "colab": {
          "base_uri": "https://localhost:8080/"
        },
        "id": "bnkj_fjODgNu",
        "outputId": "2e418fcd-91a7-48c8-ad38-060ea53477ca"
      },
      "execution_count": 2,
      "outputs": [
        {
          "output_type": "stream",
          "name": "stdout",
          "text": [
            "Name: Siddharth Mohan\n",
            "Age: 24\n"
          ]
        }
      ]
    },
    {
      "cell_type": "code",
      "source": [
        "# 3.Write code to print all the pre-defined keywords in Python using the keyword library\n",
        "import keyword\n",
        "\n",
        "# printing all keywords at once using \"kwlist()\"\n",
        "print(\"The list of keywords is : \")\n",
        "print(keyword.kwlist)\n"
      ],
      "metadata": {
        "colab": {
          "base_uri": "https://localhost:8080/"
        },
        "id": "MIPWdzXFDq5F",
        "outputId": "b238ae1d-96b2-448e-8a3a-7f2aa432ae9a"
      },
      "execution_count": 3,
      "outputs": [
        {
          "output_type": "stream",
          "name": "stdout",
          "text": [
            "The list of keywords is : \n",
            "['False', 'None', 'True', 'and', 'as', 'assert', 'async', 'await', 'break', 'class', 'continue', 'def', 'del', 'elif', 'else', 'except', 'finally', 'for', 'from', 'global', 'if', 'import', 'in', 'is', 'lambda', 'nonlocal', 'not', 'or', 'pass', 'raise', 'return', 'try', 'while', 'with', 'yield']\n"
          ]
        }
      ]
    },
    {
      "cell_type": "code",
      "source": [
        "#4. Write a program that checks if a given word is a Python keyword\n",
        "import keyword\n",
        "\n",
        "word = input(\"Enter a word: \")\n",
        "if keyword.iskeyword(word):\n",
        "    print(f\"{word} is a Python keyword.\")\n",
        "else:\n",
        "    print(f\"{word} is NOT a Python keyword.\")\n",
        "\n"
      ],
      "metadata": {
        "colab": {
          "base_uri": "https://localhost:8080/"
        },
        "id": "ebv7qSiODux6",
        "outputId": "c60eb8d9-6428-4b49-bf1c-1f5c76861c45"
      },
      "execution_count": 5,
      "outputs": [
        {
          "output_type": "stream",
          "name": "stdout",
          "text": [
            "Enter a word: falsee\n",
            "falsee is NOT a Python keyword.\n"
          ]
        }
      ]
    },
    {
      "cell_type": "code",
      "source": [
        "# 5. Create a list and tuple in Python, and demonstrate how attempting to change an element works differently\n",
        "#for each.\n",
        "my_list = [10, 20, 30]\n",
        "print(\"Original list:\", my_list)\n",
        "\n",
        "# Change the second element\n",
        "my_list[1] = 99\n",
        "print(\"Modified list:\", my_list)\n",
        "\n",
        "my_tuple = (10, 20, 30)\n",
        "print(\"Original tuple:\", my_tuple)\n",
        "\n",
        "# Try to change the second element (will raise an error)\n",
        "my_tuple[1] = 99\n",
        "print(\"Original tuple:\", my_tuple)\n"
      ],
      "metadata": {
        "colab": {
          "base_uri": "https://localhost:8080/",
          "height": 245
        },
        "id": "WJ5p-_wxD0aI",
        "outputId": "18210222-5161-4420-a81e-d42ec5ea8a30"
      },
      "execution_count": 6,
      "outputs": [
        {
          "output_type": "stream",
          "name": "stdout",
          "text": [
            "Original list: [10, 20, 30]\n",
            "Modified list: [10, 99, 30]\n",
            "Original tuple: (10, 20, 30)\n"
          ]
        },
        {
          "output_type": "error",
          "ename": "TypeError",
          "evalue": "'tuple' object does not support item assignment",
          "traceback": [
            "\u001b[0;31m---------------------------------------------------------------------------\u001b[0m",
            "\u001b[0;31mTypeError\u001b[0m                                 Traceback (most recent call last)",
            "\u001b[0;32m<ipython-input-6-028857d161e3>\u001b[0m in \u001b[0;36m<cell line: 0>\u001b[0;34m()\u001b[0m\n\u001b[1;32m     12\u001b[0m \u001b[0;34m\u001b[0m\u001b[0m\n\u001b[1;32m     13\u001b[0m \u001b[0;31m# Try to change the second element (will raise an error)\u001b[0m\u001b[0;34m\u001b[0m\u001b[0;34m\u001b[0m\u001b[0m\n\u001b[0;32m---> 14\u001b[0;31m \u001b[0mmy_tuple\u001b[0m\u001b[0;34m[\u001b[0m\u001b[0;36m1\u001b[0m\u001b[0;34m]\u001b[0m \u001b[0;34m=\u001b[0m \u001b[0;36m99\u001b[0m\u001b[0;34m\u001b[0m\u001b[0;34m\u001b[0m\u001b[0m\n\u001b[0m\u001b[1;32m     15\u001b[0m \u001b[0mprint\u001b[0m\u001b[0;34m(\u001b[0m\u001b[0;34m\"Original tuple:\"\u001b[0m\u001b[0;34m,\u001b[0m \u001b[0mmy_tuple\u001b[0m\u001b[0;34m)\u001b[0m\u001b[0;34m\u001b[0m\u001b[0;34m\u001b[0m\u001b[0m\n",
            "\u001b[0;31mTypeError\u001b[0m: 'tuple' object does not support item assignment"
          ]
        }
      ]
    },
    {
      "cell_type": "code",
      "source": [
        "# 6.  Write a function to demonstrate the behavior of mutable and immutable arguments.\n",
        "def modify_arguments(a, b):\n",
        "    a += 10\n",
        "    b.append(4)\n",
        "    print(\"Inside function - a:\", a)\n",
        "    print(\"Inside function - b:\", b)\n",
        "\n",
        "# Immutable argument (int)\n",
        "num = 5\n",
        "# Mutable argument (list)\n",
        "my_list = [1, 2, 3]\n",
        "modify_arguments(num, my_list)\n",
        "print(\"Outside function - num:\", num)\n",
        "print(\"Outside function - my_list:\", my_list)\n"
      ],
      "metadata": {
        "colab": {
          "base_uri": "https://localhost:8080/"
        },
        "id": "PeXKzPO4D9EM",
        "outputId": "5854c3db-68ba-4f32-f8eb-4908ab7ff622"
      },
      "execution_count": 7,
      "outputs": [
        {
          "output_type": "stream",
          "name": "stdout",
          "text": [
            "Inside function - a: 15\n",
            "Inside function - b: [1, 2, 3, 4]\n",
            "Outside function - num: 5\n",
            "Outside function - my_list: [1, 2, 3, 4]\n"
          ]
        }
      ]
    },
    {
      "cell_type": "code",
      "source": [
        "# 7. Write a program that performs basic arithmetic operations on two user-input numbers.\n",
        "a = float(input(\"Enter first number: \"))\n",
        "b = float(input(\"Enter second number: \"))\n",
        "\n",
        "add = a + b\n",
        "sub = a - b\n",
        "mul = a * b\n",
        "exp = a ** b\n",
        "\n",
        "print(\"Addition:\", add)\n",
        "print(\"Subtraction:\", sub)\n",
        "print(\"Multiplication:\", mul)\n",
        "print(\"Exponentiation:\", exp)\n",
        "\n",
        "# Check for division by zero\n",
        "if b != 0:\n",
        "    div = a / b\n",
        "    floor_div = a // b\n",
        "    mod = a % b\n",
        "\n",
        "    print(\"Division:\", div)\n",
        "    print(\"Floor Division:\", floor_div)\n",
        "    print(\"Modulus:\", mod)\n",
        "else:\n",
        "    print(\"Division, floor division, and modulus by zero are not allowed.\")\n",
        "\n"
      ],
      "metadata": {
        "colab": {
          "base_uri": "https://localhost:8080/"
        },
        "id": "TUduMmVpEBb1",
        "outputId": "825bd9e6-53e4-43e8-d2ef-1d9d910957e4"
      },
      "execution_count": 8,
      "outputs": [
        {
          "output_type": "stream",
          "name": "stdout",
          "text": [
            "Enter first number: 12\n",
            "Enter second number: 6\n",
            "Addition: 18.0\n",
            "Subtraction: 6.0\n",
            "Multiplication: 72.0\n",
            "Exponentiation: 2985984.0\n",
            "Division: 2.0\n",
            "Floor Division: 2.0\n",
            "Modulus: 0.0\n"
          ]
        }
      ]
    },
    {
      "cell_type": "code",
      "source": [
        "# 8. Write a program to demonstrate the use of logical operators.\n",
        "a = 10\n",
        "b = 20\n",
        "c = 30\n",
        "# and operator\n",
        "if a < b and b < c:\n",
        "    print(\"a is less than b and b is less than c\")\n",
        "\n",
        "if a > b and b < c:\n",
        "    print(\"This won't print because both conditions are not true\")\n",
        "# or operator\n",
        "if a < b or a > c:\n",
        "    print(\"a is less than b or a is greater than c\")\n",
        "\n",
        "if a > b or a > c:\n",
        "    print(\"This won't print because neither condition is true\")\n",
        "# not operator\n",
        "if not a > b:\n",
        "    print(\"a is not greater than b\")\n",
        "\n",
        "if not a < b:\n",
        "    print(\"This won't print because a is less than b, so not (a < b) is false\")\n"
      ],
      "metadata": {
        "colab": {
          "base_uri": "https://localhost:8080/"
        },
        "id": "ZHM74Eq-EIVm",
        "outputId": "82f83809-b082-42f6-ac5b-2ec25cb33096"
      },
      "execution_count": 9,
      "outputs": [
        {
          "output_type": "stream",
          "name": "stdout",
          "text": [
            "a is less than b and b is less than c\n",
            "a is less than b or a is greater than c\n",
            "a is not greater than b\n"
          ]
        }
      ]
    },
    {
      "cell_type": "code",
      "source": [
        "# 9. Write a Python program to convert user input from string to integer, float, and boolean types.\n",
        "# Get user input as string\n",
        "user_input = input(\"Enter a value: \")\n",
        "\n",
        "# Convert and print\n",
        "int_value = int(user_input)\n",
        "float_value = float(user_input)\n",
        "bool_value = bool(user_input)\n",
        "\n",
        "print(\"Integer:\", int_value)\n",
        "print(\"Float:\", float_value)\n",
        "print(\"Boolean:\", bool_value)\n"
      ],
      "metadata": {
        "colab": {
          "base_uri": "https://localhost:8080/"
        },
        "id": "OTP6Eci1ENei",
        "outputId": "7ee76716-852c-4cf4-b51a-fcc5d2c89f5c"
      },
      "execution_count": 10,
      "outputs": [
        {
          "output_type": "stream",
          "name": "stdout",
          "text": [
            "Enter a value: 10\n",
            "Integer: 10\n",
            "Float: 10.0\n",
            "Boolean: True\n"
          ]
        }
      ]
    },
    {
      "cell_type": "code",
      "source": [
        "# 10. Write code to demonstrate type casting with list elements.\n",
        "my_list = [1, 2, 3, 4, 5]\n",
        "\n",
        "# Convert integers to strings\n",
        "string_list = [str(x) for x in my_list]\n",
        "print(\"List of strings:\", string_list)\n",
        "\n",
        "# Convert strings to integers\n",
        "int_list = [int(x) for x in string_list]\n",
        "print(\"List of integers:\", int_list)\n",
        "\n",
        "# Convert integers to floats\n",
        "float_list = [float(x) for x in my_list]\n",
        "print(\"List of floats:\", float_list)\n",
        "\n",
        "# List with mixed data types\n",
        "mixed_list = [1, \"2\", 3.0, True]\n",
        "\n",
        "# Convert all elements to strings\n",
        "string_list_from_mixed = [str(x) for x in mixed_list]\n",
        "print(\"List of strings from mixed:\", string_list_from_mixed)\n",
        "\n"
      ],
      "metadata": {
        "colab": {
          "base_uri": "https://localhost:8080/"
        },
        "id": "f5-maQsKEVhJ",
        "outputId": "4714bc54-842d-4cd7-fd70-eaef727bbdfb"
      },
      "execution_count": 11,
      "outputs": [
        {
          "output_type": "stream",
          "name": "stdout",
          "text": [
            "List of strings: ['1', '2', '3', '4', '5']\n",
            "List of integers: [1, 2, 3, 4, 5]\n",
            "List of floats: [1.0, 2.0, 3.0, 4.0, 5.0]\n",
            "List of strings from mixed: ['1', '2', '3.0', 'True']\n"
          ]
        }
      ]
    },
    {
      "cell_type": "code",
      "source": [
        "# 11. Write a program that checks if a number is positive, negative, or zero\n",
        "num = float(input(\"Enter a number: \"))\n",
        "if num > 0:\n",
        "   print(\"Positive number\")\n",
        "elif num == 0:\n",
        "   print(\"Zero\")\n",
        "else:\n",
        "   print(\"Negative number\")"
      ],
      "metadata": {
        "colab": {
          "base_uri": "https://localhost:8080/"
        },
        "id": "8Io6xmd2EWyV",
        "outputId": "91bd2b9a-6c9e-4513-977b-f99a87ad7d3a"
      },
      "execution_count": 14,
      "outputs": [
        {
          "output_type": "stream",
          "name": "stdout",
          "text": [
            "Enter a number: -10\n",
            "Negative number\n"
          ]
        }
      ]
    },
    {
      "cell_type": "code",
      "source": [
        "# 12. Write a for loop to print numbers from 1 to 10.\n",
        "for i in range(1, 11):\n",
        "    print(i)\n"
      ],
      "metadata": {
        "colab": {
          "base_uri": "https://localhost:8080/"
        },
        "id": "7b7FxRslEhCK",
        "outputId": "68b7564d-efa7-4da5-80d7-04d0105a2e0e"
      },
      "execution_count": 15,
      "outputs": [
        {
          "output_type": "stream",
          "name": "stdout",
          "text": [
            "1\n",
            "2\n",
            "3\n",
            "4\n",
            "5\n",
            "6\n",
            "7\n",
            "8\n",
            "9\n",
            "10\n"
          ]
        }
      ]
    },
    {
      "cell_type": "code",
      "source": [
        "# 13.  Write a Python program to find the sum of all even numbers between 1 and 50\n",
        "sum = 0\n",
        "for num in range(1, 51):\n",
        "    if num % 2 == 0:  # Check if the number is even\n",
        "        sum += num\n",
        "print(\"Sum of even numbers between 1 and 50:\", sum)\n"
      ],
      "metadata": {
        "colab": {
          "base_uri": "https://localhost:8080/"
        },
        "id": "ifMHXCIeEohk",
        "outputId": "7d42da35-9a06-4ac3-93ea-81420df1fdaf"
      },
      "execution_count": 16,
      "outputs": [
        {
          "output_type": "stream",
          "name": "stdout",
          "text": [
            "Sum of even numbers between 1 and 50: 650\n"
          ]
        }
      ]
    },
    {
      "cell_type": "code",
      "source": [
        "# 14. Write a program to reverse a string using a while loop.\n",
        "s = input(\"Enter a string: \")\n",
        "\n",
        "# Initialize an empty string to store the reversed string\n",
        "rev_s = \"\"\n",
        "\n",
        "# Initialize a counter to track the position of the string\n",
        "index = len(s) - 1\n",
        "\n",
        "# While loop to reverse the string\n",
        "while index >= 0:\n",
        "    rev_s += s[index]\n",
        "    index -= 1\n",
        "\n",
        "# Print the reversed string\n",
        "print(\"Reversed string:\", rev_s)\n"
      ],
      "metadata": {
        "colab": {
          "base_uri": "https://localhost:8080/"
        },
        "id": "-uXYXqsJEp_i",
        "outputId": "7bfa0ea1-68b5-4a9c-d385-56c24845b83f"
      },
      "execution_count": 17,
      "outputs": [
        {
          "output_type": "stream",
          "name": "stdout",
          "text": [
            "Enter a string: Sidd\n",
            "Reversed string: ddiS\n"
          ]
        }
      ]
    },
    {
      "cell_type": "code",
      "source": [
        "# 15.  Write a Python program to calculate the factorial of a number provided by the user using a while loop\n",
        "num = int(input(\"Enter a number to calculate its factorial: \"))\n",
        "\n",
        "factorial = 1\n",
        "i = 1\n",
        "\n",
        "while i <= num:\n",
        "    factorial *= i\n",
        "    i += 1\n",
        "\n",
        "print(f\"Factorial of {num} is {factorial}\")"
      ],
      "metadata": {
        "colab": {
          "base_uri": "https://localhost:8080/"
        },
        "id": "Q51M1AIhExyC",
        "outputId": "08f89b2a-e069-4adc-a7c4-01a019d64ab0"
      },
      "execution_count": 18,
      "outputs": [
        {
          "output_type": "stream",
          "name": "stdout",
          "text": [
            "Enter a number to calculate its factorial: 7\n",
            "Factorial of 7 is 5040\n"
          ]
        }
      ]
    }
  ]
}